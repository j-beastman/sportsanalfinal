{
 "cells": [
  {
   "cell_type": "markdown",
   "metadata": {},
   "source": [
    "## Gather and scale Offensive Rating (ORtg), Defensive Rating (DRtg), and Net Rating (NRtg) for every team for every season 1998-2023"
   ]
  },
  {
   "cell_type": "markdown",
   "metadata": {},
   "source": [
    "Import necessary packages"
   ]
  },
  {
   "cell_type": "code",
   "execution_count": 32,
   "metadata": {},
   "outputs": [],
   "source": [
    "import pandas as pd\n",
    "import requests\n",
    "from bs4 import BeautifulSoup\n",
    "import time\n",
    "from sklearn.preprocessing import MinMaxScaler"
   ]
  },
  {
   "cell_type": "markdown",
   "metadata": {},
   "source": [
    "Prep URL for 1998-2023 seasons"
   ]
  },
  {
   "cell_type": "code",
   "execution_count": 33,
   "metadata": {},
   "outputs": [],
   "source": [
    "YEARS = [y for y in range(1998, 2024)]\n",
    "def make_link (year):\n",
    "    return f\"https://www.basketball-reference.com/leagues/NBA_{year}.html\""
   ]
  },
  {
   "cell_type": "markdown",
   "metadata": {},
   "source": [
    "Scrape ORtg, DRtg, and NRtg Data for every team from 1998-2023 seasons"
   ]
  },
  {
   "cell_type": "code",
   "execution_count": 34,
   "metadata": {},
   "outputs": [],
   "source": [
    "data = []\n",
    "\n",
    "for year in YEARS:\n",
    "    page = requests.get(make_link(year))\n",
    "    time.sleep(2)\n",
    "    soup = BeautifulSoup(page.content, \"html.parser\")\n",
    "    table = soup.find(\"table\", {\"id\": \"advanced-team\"})\n",
    "    if table:\n",
    "        rows = table.find_all(\"tr\")\n",
    "        \n",
    "        for row in rows[1:]:\n",
    "            cells = row.find_all([\"th\", \"td\"])\n",
    "            \n",
    "            team = cells[1].text.strip()   # 'Team' column\n",
    "            if team != \"Team\":\n",
    "                ortg = cells[10].text.strip()  # 'ORtg' column\n",
    "                drtg = cells[11].text.strip()  # 'DRtg' column\n",
    "                nrtg = cells[12].text.strip()  # 'NRtg' column\n",
    "                \n",
    "                data.append((year, team, ortg, drtg, nrtg))\n",
    "\n",
    "\n"
   ]
  },
  {
   "cell_type": "markdown",
   "metadata": {},
   "source": [
    "Scale all the values between 0 and 1 for each year for each column"
   ]
  },
  {
   "cell_type": "code",
   "execution_count": 35,
   "metadata": {},
   "outputs": [],
   "source": [
    "data = pd.DataFrame(data, columns=[\"Year\", \"Team\", \"ORtg\", \"DRtg\", \"NRtg\"])\n",
    "\n",
    "# convert data from strings to floats\n",
    "data['NRtg'] = data['NRtg'].str.replace('+', '').replace('', '0')\n",
    "data[['ORtg', 'DRtg', 'NRtg']] = data[['ORtg', 'DRtg', 'NRtg']].astype(float)\n",
    "\n",
    "# Initialize separate MinMaxScalers for each column\n",
    "scalers = {\n",
    "    'ORtg': MinMaxScaler(),\n",
    "    'DRtg': MinMaxScaler(),\n",
    "    'NRtg': MinMaxScaler()\n",
    "}\n",
    "\n",
    "grouped = data.groupby('Year')\n",
    "\n",
    "# Scale the stats for each group (i.e., each year) and each column individually\n",
    "scaled_dfs = []\n",
    "for year, group in grouped:\n",
    "    scaled_group = group.copy()\n",
    "    for col in ['ORtg', 'DRtg', 'NRtg']:\n",
    "        scaler = scalers[col]\n",
    "        scaled_group[col] = scaler.fit_transform(group[[col]])\n",
    "    scaled_dfs.append(scaled_group)\n",
    "\n",
    "scaled_df = pd.concat(scaled_dfs)"
   ]
  },
  {
   "cell_type": "markdown",
   "metadata": {},
   "source": [
    "Export data to csv"
   ]
  },
  {
   "cell_type": "code",
   "execution_count": 36,
   "metadata": {},
   "outputs": [],
   "source": [
    "scaled_df.to_csv(\"rtg_data_scaled.csv\", index=False)"
   ]
  },
  {
   "cell_type": "markdown",
   "metadata": {},
   "source": [
    "Make and export a new dataframe with stats of just the NBA champions"
   ]
  },
  {
   "cell_type": "code",
   "execution_count": 45,
   "metadata": {},
   "outputs": [],
   "source": [
    "# list of every champion team from 1998-2023\n",
    "champions = [\"Chicago Bulls*\", \"San Antonio Spurs*\", \"Los Angeles Lakers*\", \"Los Angeles Lakers*\", \n",
    "             \"Los Angeles Lakers*\", \"San Antonio Spurs*\", \"Detroit Pistons*\", \"San Antonio Spurs*\", \n",
    "             \"Miami Heat*\", \"San Antonio Spurs*\", \"Boston Celtics*\", \"Los Angeles Lakers*\", \n",
    "             \"Los Angeles Lakers*\", \"Dallas Mavericks*\", \"Miami Heat*\", \"Miami Heat*\", \"San Antonio Spurs*\",\n",
    "             \"Golden State Warriors*\", \"Cleveland Cavaliers*\", \"Golden State Warriors*\",\n",
    "             \"Golden State Warriors*\", \"Toronto Raptors*\", \"Los Angeles Lakers*\", \"Golden State Warriors\",\n",
    "             \"Milwaukee Bucks*\", \"Denver Nuggets*\"]\n",
    "\n",
    "champion_df = pd.DataFrame()\n",
    "champion_stats = []\n",
    "\n",
    "for year, champion_team in enumerate(champions, start=1998):\n",
    "    # Filter the 'scaled_df' for the champion team of the current year\n",
    "    curr_year = scaled_df[scaled_df['Year'] == year]\n",
    "    champion_stats = curr_year[curr_year['Team'] == champion_team]\n",
    "    champion_df = pd.concat([champion_stats, champion_df])\n",
    "    \n",
    "champion_df.to_csv(\"champs.csv\", index=False)"
   ]
  }
 ],
 "metadata": {
  "kernelspec": {
   "display_name": "Python 3",
   "language": "python",
   "name": "python3"
  },
  "language_info": {
   "codemirror_mode": {
    "name": "ipython",
    "version": 3
   },
   "file_extension": ".py",
   "mimetype": "text/x-python",
   "name": "python",
   "nbconvert_exporter": "python",
   "pygments_lexer": "ipython3",
   "version": "3.11.1"
  }
 },
 "nbformat": 4,
 "nbformat_minor": 2
}
