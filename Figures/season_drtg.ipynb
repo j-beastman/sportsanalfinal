{
 "cells": [
  {
   "cell_type": "markdown",
   "metadata": {},
   "source": [
    "## Gather Offensive Rating (ORtg), Defensive Rating (DRtg), and Net Rating (NRtg) for every team for every season 1998-2023"
   ]
  },
  {
   "cell_type": "markdown",
   "metadata": {},
   "source": [
    "Import necessary packages"
   ]
  },
  {
   "cell_type": "code",
   "execution_count": 10,
   "metadata": {},
   "outputs": [],
   "source": [
    "import pandas as pd\n",
    "import requests\n",
    "from bs4 import BeautifulSoup\n",
    "import time"
   ]
  },
  {
   "cell_type": "markdown",
   "metadata": {},
   "source": [
    "Prep URL for 1998-2023 seasons"
   ]
  },
  {
   "cell_type": "code",
   "execution_count": 11,
   "metadata": {},
   "outputs": [],
   "source": [
    "YEARS = [y for y in range(1998, 2024)]\n",
    "def make_link (year):\n",
    "    return f\"https://www.basketball-reference.com/leagues/NBA_{year}.html\""
   ]
  },
  {
   "cell_type": "markdown",
   "metadata": {},
   "source": [
    "Scrape ORtg, DRtg, and NRtg Data for every team from 1998-2023 seasons"
   ]
  },
  {
   "cell_type": "code",
   "execution_count": 14,
   "metadata": {},
   "outputs": [],
   "source": [
    "data = []\n",
    "\n",
    "for year in YEARS:\n",
    "    page = requests.get(make_link(year))\n",
    "    time.sleep(2)\n",
    "    soup = BeautifulSoup(page.content, \"html.parser\")\n",
    "    table = soup.find(\"table\", {\"id\": \"advanced-team\"})\n",
    "    if table:\n",
    "        rows = table.find_all(\"tr\")\n",
    "        \n",
    "        for row in rows[1:]:\n",
    "            cells = row.find_all([\"th\", \"td\"])\n",
    "            \n",
    "            team = cells[1].text.strip()   # 'Team' column\n",
    "            if team != \"Team\":\n",
    "                ortg = cells[10].text.strip()  # 'ORtg' column\n",
    "                drtg = cells[11].text.strip()  # 'DRtg' column\n",
    "                nrtg = cells[12].text.strip()  # 'NRtg' column\n",
    "                \n",
    "                data.append((year, team, ortg, drtg, nrtg))\n",
    "\n",
    "\n"
   ]
  },
  {
   "cell_type": "markdown",
   "metadata": {},
   "source": [
    "Export data to csv"
   ]
  },
  {
   "cell_type": "code",
   "execution_count": 15,
   "metadata": {},
   "outputs": [],
   "source": [
    "data = pd.DataFrame(data, columns=[\"Year\", \"Team\", \"ORtg\", \"DRtg\", \"NRtg\"])\n",
    "data.to_csv(\"rtg_data.csv\", index=False)"
   ]
  }
 ],
 "metadata": {
  "kernelspec": {
   "display_name": "Python 3",
   "language": "python",
   "name": "python3"
  },
  "language_info": {
   "codemirror_mode": {
    "name": "ipython",
    "version": 3
   },
   "file_extension": ".py",
   "mimetype": "text/x-python",
   "name": "python",
   "nbconvert_exporter": "python",
   "pygments_lexer": "ipython3",
   "version": "3.11.1"
  }
 },
 "nbformat": 4,
 "nbformat_minor": 2
}
